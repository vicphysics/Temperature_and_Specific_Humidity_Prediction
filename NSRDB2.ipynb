{
 "cells": [
  {
   "cell_type": "code",
   "execution_count": 3,
   "id": "f896034a",
   "metadata": {},
   "outputs": [
    {
     "data": {
      "text/plain": [
       "['Version']"
      ]
     },
     "execution_count": 3,
     "metadata": {},
     "output_type": "execute_result"
    }
   ],
   "source": [
    "%matplotlib inline\n",
    "import h5pyd\n",
    "import numpy as np\n",
    "import pandas as pd\n",
    "import matplotlib.pyplot as plt\n",
    "import matplotlib.image as mpimg\n",
    "from scipy.spatial import cKDTree\n",
    "\n",
    "# Open the desired year of nsrdb data\n",
    "# server endpoint, username, password is found via a config file\n",
    "f = h5pyd.File(\"/nrel/nsrdb/v3/nsrdb_2012.h5\", 'r')\n",
    "\n",
    "list(f.attrs)  # list attributes belonging to the root group"
   ]
  },
  {
   "cell_type": "code",
   "execution_count": 4,
   "id": "59a212a1",
   "metadata": {},
   "outputs": [
    {
     "name": "stdout",
     "output_type": "stream",
     "text": [
      "<class 'h5pyd._hl.files.File'>\n"
     ]
    }
   ],
   "source": [
    "print(type(f))"
   ]
  },
  {
   "cell_type": "code",
   "execution_count": 5,
   "id": "1c6c8b58",
   "metadata": {},
   "outputs": [
    {
     "data": {
      "text/plain": [
       "['air_temperature',\n",
       " 'alpha',\n",
       " 'aod',\n",
       " 'asymmetry',\n",
       " 'cld_opd_dcomp',\n",
       " 'cld_reff_dcomp',\n",
       " 'clearsky_dhi',\n",
       " 'clearsky_dni',\n",
       " 'clearsky_ghi',\n",
       " 'cloud_press_acha',\n",
       " 'cloud_type',\n",
       " 'coordinates',\n",
       " 'dew_point',\n",
       " 'dhi',\n",
       " 'dni',\n",
       " 'fill_flag',\n",
       " 'ghi',\n",
       " 'meta',\n",
       " 'ozone',\n",
       " 'relative_humidity',\n",
       " 'solar_zenith_angle',\n",
       " 'ssa',\n",
       " 'surface_albedo',\n",
       " 'surface_pressure',\n",
       " 'time_index',\n",
       " 'total_precipitable_water',\n",
       " 'wind_direction',\n",
       " 'wind_speed']"
      ]
     },
     "execution_count": 5,
     "metadata": {},
     "output_type": "execute_result"
    }
   ],
   "source": [
    "list(f)"
   ]
  },
  {
   "cell_type": "code",
   "execution_count": 10,
   "id": "2cd9d25d",
   "metadata": {},
   "outputs": [],
   "source": [
    "dset = f['ghi']"
   ]
  },
  {
   "cell_type": "code",
   "execution_count": 27,
   "id": "79a01f55",
   "metadata": {},
   "outputs": [
    {
     "name": "stdout",
     "output_type": "stream",
     "text": [
      "<HDF5 dataset \"ghi\": shape (17568, 2018392), type \"<i2\">\n"
     ]
    }
   ],
   "source": [
    "print(dset)\n",
    "dset2 = dset[1, :50183]"
   ]
  },
  {
   "cell_type": "code",
   "execution_count": 28,
   "id": "26729e8b",
   "metadata": {},
   "outputs": [],
   "source": [
    "ghi_dataset = np.array(dset2)"
   ]
  },
  {
   "cell_type": "code",
   "execution_count": 29,
   "id": "1b98e181",
   "metadata": {},
   "outputs": [
    {
     "name": "stdout",
     "output_type": "stream",
     "text": [
      "[1040 1038 1037 ...   33   33   33]\n"
     ]
    }
   ],
   "source": [
    "print(ghi_dataset)"
   ]
  },
  {
   "cell_type": "code",
   "execution_count": null,
   "id": "f20a95c6",
   "metadata": {},
   "outputs": [],
   "source": []
  }
 ],
 "metadata": {
  "kernelspec": {
   "display_name": "Python 3",
   "language": "python",
   "name": "python3"
  },
  "language_info": {
   "codemirror_mode": {
    "name": "ipython",
    "version": 3
   },
   "file_extension": ".py",
   "mimetype": "text/x-python",
   "name": "python",
   "nbconvert_exporter": "python",
   "pygments_lexer": "ipython3",
   "version": "3.8.8"
  }
 },
 "nbformat": 4,
 "nbformat_minor": 5
}
